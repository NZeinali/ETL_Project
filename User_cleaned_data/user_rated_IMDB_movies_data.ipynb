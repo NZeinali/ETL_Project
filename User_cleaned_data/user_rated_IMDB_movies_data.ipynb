{
 "cells": [
  {
   "cell_type": "code",
   "execution_count": 1,
   "metadata": {},
   "outputs": [],
   "source": [
    "import os\n",
    "import re\n",
    "import numpy as np\n",
    "import pandas as pd\n",
    "import matplotlib.pyplot as plt\n",
    "import json\n",
    "import urllib\n",
    "import requests"
   ]
  },
  {
   "cell_type": "code",
   "execution_count": 2,
   "metadata": {},
   "outputs": [
    {
     "data": {
      "text/html": "<div>\n<style scoped>\n    .dataframe tbody tr th:only-of-type {\n        vertical-align: middle;\n    }\n\n    .dataframe tbody tr th {\n        vertical-align: top;\n    }\n\n    .dataframe thead th {\n        text-align: right;\n    }\n</style>\n<table border=\"1\" class=\"dataframe\">\n  <thead>\n    <tr style=\"text-align: right;\">\n      <th></th>\n      <th>user_id</th>\n      <th>item_id</th>\n      <th>rating</th>\n      <th>timestamp</th>\n    </tr>\n  </thead>\n  <tbody>\n    <tr>\n      <th>0</th>\n      <td>196</td>\n      <td>242</td>\n      <td>3</td>\n      <td>881250949</td>\n    </tr>\n    <tr>\n      <th>1</th>\n      <td>186</td>\n      <td>302</td>\n      <td>3</td>\n      <td>891717742</td>\n    </tr>\n    <tr>\n      <th>2</th>\n      <td>22</td>\n      <td>377</td>\n      <td>1</td>\n      <td>878887116</td>\n    </tr>\n    <tr>\n      <th>3</th>\n      <td>244</td>\n      <td>51</td>\n      <td>2</td>\n      <td>880606923</td>\n    </tr>\n    <tr>\n      <th>4</th>\n      <td>166</td>\n      <td>346</td>\n      <td>1</td>\n      <td>886397596</td>\n    </tr>\n  </tbody>\n</table>\n</div>",
      "text/plain": "   user_id  item_id  rating  timestamp\n0      196      242       3  881250949\n1      186      302       3  891717742\n2       22      377       1  878887116\n3      244       51       2  880606923\n4      166      346       1  886397596"
     },
     "execution_count": 2,
     "metadata": {},
     "output_type": "execute_result"
    }
   ],
   "source": [
    "columns_name=['user_id','item_id','rating','timestamp']\n",
    "main_data_df=pd.read_csv(\"/Users/chipampe/Desktop/ETL_Project/Data user details/users data/ml-100k/u.data\", sep=\"\\t\",names=columns_name)        \n",
    "\n",
    "main_data_df.head()"
   ]
  },
  {
   "cell_type": "code",
   "execution_count": 3,
   "metadata": {},
   "outputs": [
    {
     "data": {
      "text/html": "<div>\n<style scoped>\n    .dataframe tbody tr th:only-of-type {\n        vertical-align: middle;\n    }\n\n    .dataframe tbody tr th {\n        vertical-align: top;\n    }\n\n    .dataframe thead th {\n        text-align: right;\n    }\n</style>\n<table border=\"1\" class=\"dataframe\">\n  <thead>\n    <tr style=\"text-align: right;\">\n      <th></th>\n      <th>item_id</th>\n    </tr>\n  </thead>\n  <tbody>\n    <tr>\n      <th>0</th>\n      <td>242</td>\n    </tr>\n    <tr>\n      <th>1</th>\n      <td>302</td>\n    </tr>\n    <tr>\n      <th>2</th>\n      <td>377</td>\n    </tr>\n    <tr>\n      <th>3</th>\n      <td>51</td>\n    </tr>\n    <tr>\n      <th>4</th>\n      <td>346</td>\n    </tr>\n    <tr>\n      <th>...</th>\n      <td>...</td>\n    </tr>\n    <tr>\n      <th>99995</th>\n      <td>476</td>\n    </tr>\n    <tr>\n      <th>99996</th>\n      <td>204</td>\n    </tr>\n    <tr>\n      <th>99997</th>\n      <td>1090</td>\n    </tr>\n    <tr>\n      <th>99998</th>\n      <td>225</td>\n    </tr>\n    <tr>\n      <th>99999</th>\n      <td>203</td>\n    </tr>\n  </tbody>\n</table>\n<p>100000 rows × 1 columns</p>\n</div>",
      "text/plain": "       item_id\n0          242\n1          302\n2          377\n3           51\n4          346\n...        ...\n99995      476\n99996      204\n99997     1090\n99998      225\n99999      203\n\n[100000 rows x 1 columns]"
     },
     "execution_count": 3,
     "metadata": {},
     "output_type": "execute_result"
    }
   ],
   "source": [
    "#just items list \n",
    "itemdf = pd.DataFrame(main_data_df.item_id)\n",
    "itemdf"
   ]
  },
  {
   "cell_type": "code",
   "execution_count": 4,
   "metadata": {},
   "outputs": [
    {
     "name": "stderr",
     "output_type": "stream",
     "text": [
      "/Users/chipampe/opt/anaconda3/envs/Pythondata/lib/python3.6/site-packages/ipykernel_launcher.py:2: ParserWarning: Falling back to the 'python' engine because the 'c' engine does not support regex separators (separators > 1 char and different from '\\s+' are interpreted as regex); you can avoid this warning by specifying engine='python'.\n",
      "  \n"
     ]
    },
    {
     "data": {
      "text/html": "<div>\n<style scoped>\n    .dataframe tbody tr th:only-of-type {\n        vertical-align: middle;\n    }\n\n    .dataframe tbody tr th {\n        vertical-align: top;\n    }\n\n    .dataframe thead th {\n        text-align: right;\n    }\n</style>\n<table border=\"1\" class=\"dataframe\">\n  <thead>\n    <tr style=\"text-align: right;\">\n      <th></th>\n      <th>movie_id</th>\n      <th>movie_name</th>\n    </tr>\n  </thead>\n  <tbody>\n    <tr>\n      <th>0</th>\n      <td>1</td>\n      <td>Toy Story (1995)</td>\n    </tr>\n    <tr>\n      <th>1</th>\n      <td>2</td>\n      <td>GoldenEye (1995)</td>\n    </tr>\n    <tr>\n      <th>2</th>\n      <td>3</td>\n      <td>Four Rooms (1995)</td>\n    </tr>\n    <tr>\n      <th>3</th>\n      <td>4</td>\n      <td>Get Shorty (1995)</td>\n    </tr>\n    <tr>\n      <th>4</th>\n      <td>5</td>\n      <td>Copycat (1995)</td>\n    </tr>\n    <tr>\n      <th>...</th>\n      <td>...</td>\n      <td>...</td>\n    </tr>\n    <tr>\n      <th>1677</th>\n      <td>1678</td>\n      <td>Mat' i syn (1997)</td>\n    </tr>\n    <tr>\n      <th>1678</th>\n      <td>1679</td>\n      <td>B. Monkey (1998)</td>\n    </tr>\n    <tr>\n      <th>1679</th>\n      <td>1680</td>\n      <td>Sliding Doors (1998)</td>\n    </tr>\n    <tr>\n      <th>1680</th>\n      <td>1681</td>\n      <td>You So Crazy (1994)</td>\n    </tr>\n    <tr>\n      <th>1681</th>\n      <td>1682</td>\n      <td>Scream of Stone (Schrei aus Stein) (1991)</td>\n    </tr>\n  </tbody>\n</table>\n<p>1682 rows × 2 columns</p>\n</div>",
      "text/plain": "      movie_id                                 movie_name\n0            1                           Toy Story (1995)\n1            2                           GoldenEye (1995)\n2            3                          Four Rooms (1995)\n3            4                          Get Shorty (1995)\n4            5                             Copycat (1995)\n...        ...                                        ...\n1677      1678                          Mat' i syn (1997)\n1678      1679                           B. Monkey (1998)\n1679      1680                       Sliding Doors (1998)\n1680      1681                        You So Crazy (1994)\n1681      1682  Scream of Stone (Schrei aus Stein) (1991)\n\n[1682 rows x 2 columns]"
     },
     "execution_count": 4,
     "metadata": {},
     "output_type": "execute_result"
    }
   ],
   "source": [
    "movie_cols =['movie_id','movie_name']\n",
    "movies = pd.read_csv('/Users/chipampe/Desktop/ETL_Project/Data user details/users data/ml-100k/u.item',sep = '\\|',header = None,usecols=[0,1],names = movie_cols)\n",
    "movies"
   ]
  },
  {
   "cell_type": "code",
   "execution_count": 5,
   "metadata": {},
   "outputs": [
    {
     "data": {
      "text/html": "<div>\n<style scoped>\n    .dataframe tbody tr th:only-of-type {\n        vertical-align: middle;\n    }\n\n    .dataframe tbody tr th {\n        vertical-align: top;\n    }\n\n    .dataframe thead th {\n        text-align: right;\n    }\n</style>\n<table border=\"1\" class=\"dataframe\">\n  <thead>\n    <tr style=\"text-align: right;\">\n      <th></th>\n      <th>movie_id</th>\n    </tr>\n  </thead>\n  <tbody>\n    <tr>\n      <th>0</th>\n      <td>1</td>\n    </tr>\n    <tr>\n      <th>1</th>\n      <td>2</td>\n    </tr>\n    <tr>\n      <th>2</th>\n      <td>3</td>\n    </tr>\n    <tr>\n      <th>3</th>\n      <td>4</td>\n    </tr>\n    <tr>\n      <th>4</th>\n      <td>5</td>\n    </tr>\n    <tr>\n      <th>...</th>\n      <td>...</td>\n    </tr>\n    <tr>\n      <th>1677</th>\n      <td>1678</td>\n    </tr>\n    <tr>\n      <th>1678</th>\n      <td>1679</td>\n    </tr>\n    <tr>\n      <th>1679</th>\n      <td>1680</td>\n    </tr>\n    <tr>\n      <th>1680</th>\n      <td>1681</td>\n    </tr>\n    <tr>\n      <th>1681</th>\n      <td>1682</td>\n    </tr>\n  </tbody>\n</table>\n<p>1682 rows × 1 columns</p>\n</div>",
      "text/plain": "      movie_id\n0            1\n1            2\n2            3\n3            4\n4            5\n...        ...\n1677      1678\n1678      1679\n1679      1680\n1680      1681\n1681      1682\n\n[1682 rows x 1 columns]"
     },
     "execution_count": 5,
     "metadata": {},
     "output_type": "execute_result"
    }
   ],
   "source": [
    "movie_iddf = pd.DataFrame(movies.movie_id)\n",
    "movie_iddf"
   ]
  },
  {
   "cell_type": "code",
   "execution_count": 6,
   "metadata": {},
   "outputs": [
    {
     "data": {
      "text/plain": "0                                Toy Story ()\n1                                GoldenEye ()\n2                               Four Rooms ()\n3                               Get Shorty ()\n4                                  Copycat ()\n                        ...                  \n1677                            Mat' i syn ()\n1678                             B. Monkey ()\n1679                         Sliding Doors ()\n1680                          You So Crazy ()\n1681    Scream of Stone (Schrei aus Stein) ()\nName: movie_name, Length: 1682, dtype: object"
     },
     "execution_count": 6,
     "metadata": {},
     "output_type": "execute_result"
    }
   ],
   "source": [
    "results = movies['movie_name'] = movies['movie_name'].str.replace('\\d+', '')\n",
    "results\n"
   ]
  },
  {
   "cell_type": "code",
   "execution_count": 7,
   "metadata": {},
   "outputs": [
    {
     "data": {
      "text/html": "<div>\n<style scoped>\n    .dataframe tbody tr th:only-of-type {\n        vertical-align: middle;\n    }\n\n    .dataframe tbody tr th {\n        vertical-align: top;\n    }\n\n    .dataframe thead th {\n        text-align: right;\n    }\n</style>\n<table border=\"1\" class=\"dataframe\">\n  <thead>\n    <tr style=\"text-align: right;\">\n      <th></th>\n      <th>movie_name</th>\n    </tr>\n  </thead>\n  <tbody>\n    <tr>\n      <th>0</th>\n      <td>Toy Story ()</td>\n    </tr>\n    <tr>\n      <th>1</th>\n      <td>GoldenEye ()</td>\n    </tr>\n    <tr>\n      <th>2</th>\n      <td>Four Rooms ()</td>\n    </tr>\n    <tr>\n      <th>3</th>\n      <td>Get Shorty ()</td>\n    </tr>\n    <tr>\n      <th>4</th>\n      <td>Copycat ()</td>\n    </tr>\n    <tr>\n      <th>...</th>\n      <td>...</td>\n    </tr>\n    <tr>\n      <th>1677</th>\n      <td>Mat' i syn ()</td>\n    </tr>\n    <tr>\n      <th>1678</th>\n      <td>B. Monkey ()</td>\n    </tr>\n    <tr>\n      <th>1679</th>\n      <td>Sliding Doors ()</td>\n    </tr>\n    <tr>\n      <th>1680</th>\n      <td>You So Crazy ()</td>\n    </tr>\n    <tr>\n      <th>1681</th>\n      <td>Scream of Stone (Schrei aus Stein) ()</td>\n    </tr>\n  </tbody>\n</table>\n<p>1682 rows × 1 columns</p>\n</div>",
      "text/plain": "                                 movie_name\n0                              Toy Story ()\n1                              GoldenEye ()\n2                             Four Rooms ()\n3                             Get Shorty ()\n4                                Copycat ()\n...                                     ...\n1677                          Mat' i syn ()\n1678                           B. Monkey ()\n1679                       Sliding Doors ()\n1680                        You So Crazy ()\n1681  Scream of Stone (Schrei aus Stein) ()\n\n[1682 rows x 1 columns]"
     },
     "execution_count": 7,
     "metadata": {},
     "output_type": "execute_result"
    }
   ],
   "source": [
    "resultsdf = pd.DataFrame(results)\n",
    "resultsdf\n"
   ]
  },
  {
   "cell_type": "code",
   "execution_count": 8,
   "metadata": {},
   "outputs": [
    {
     "data": {
      "text/html": "<div>\n<style scoped>\n    .dataframe tbody tr th:only-of-type {\n        vertical-align: middle;\n    }\n\n    .dataframe tbody tr th {\n        vertical-align: top;\n    }\n\n    .dataframe thead th {\n        text-align: right;\n    }\n</style>\n<table border=\"1\" class=\"dataframe\">\n  <thead>\n    <tr style=\"text-align: right;\">\n      <th></th>\n      <th>movie_name</th>\n    </tr>\n  </thead>\n  <tbody>\n    <tr>\n      <th>0</th>\n      <td>Toy Story</td>\n    </tr>\n    <tr>\n      <th>1</th>\n      <td>GoldenEye</td>\n    </tr>\n    <tr>\n      <th>2</th>\n      <td>Four Rooms</td>\n    </tr>\n    <tr>\n      <th>3</th>\n      <td>Get Shorty</td>\n    </tr>\n    <tr>\n      <th>4</th>\n      <td>Copycat</td>\n    </tr>\n    <tr>\n      <th>...</th>\n      <td>...</td>\n    </tr>\n    <tr>\n      <th>1677</th>\n      <td>Mat' i syn</td>\n    </tr>\n    <tr>\n      <th>1678</th>\n      <td>B. Monkey</td>\n    </tr>\n    <tr>\n      <th>1679</th>\n      <td>Sliding Doors</td>\n    </tr>\n    <tr>\n      <th>1680</th>\n      <td>You So Crazy</td>\n    </tr>\n    <tr>\n      <th>1681</th>\n      <td>Scream of Stone Schrei aus Stein</td>\n    </tr>\n  </tbody>\n</table>\n<p>1682 rows × 1 columns</p>\n</div>",
      "text/plain": "                             movie_name\n0                            Toy Story \n1                            GoldenEye \n2                           Four Rooms \n3                           Get Shorty \n4                              Copycat \n...                                 ...\n1677                        Mat' i syn \n1678                         B. Monkey \n1679                     Sliding Doors \n1680                      You So Crazy \n1681  Scream of Stone Schrei aus Stein \n\n[1682 rows x 1 columns]"
     },
     "execution_count": 8,
     "metadata": {},
     "output_type": "execute_result"
    }
   ],
   "source": [
    "finalresults = resultsdf['movie_name'] = resultsdf['movie_name'].apply(lambda x: x.replace('(','').replace(')','')) \n",
    "moviesdata = pd.DataFrame(finalresults)\n",
    "moviesdata"
   ]
  },
  {
   "cell_type": "code",
   "execution_count": 9,
   "metadata": {},
   "outputs": [
    {
     "data": {
      "text/html": "<div>\n<style scoped>\n    .dataframe tbody tr th:only-of-type {\n        vertical-align: middle;\n    }\n\n    .dataframe tbody tr th {\n        vertical-align: top;\n    }\n\n    .dataframe thead th {\n        text-align: right;\n    }\n</style>\n<table border=\"1\" class=\"dataframe\">\n  <thead>\n    <tr style=\"text-align: right;\">\n      <th></th>\n      <th>movie_name</th>\n    </tr>\n    <tr>\n      <th>movie_id</th>\n      <th></th>\n    </tr>\n  </thead>\n  <tbody>\n    <tr>\n      <th>1</th>\n      <td>Toy Story</td>\n    </tr>\n    <tr>\n      <th>2</th>\n      <td>GoldenEye</td>\n    </tr>\n    <tr>\n      <th>3</th>\n      <td>Four Rooms</td>\n    </tr>\n    <tr>\n      <th>4</th>\n      <td>Get Shorty</td>\n    </tr>\n    <tr>\n      <th>5</th>\n      <td>Copycat</td>\n    </tr>\n  </tbody>\n</table>\n</div>",
      "text/plain": "           movie_name\nmovie_id             \n1          Toy Story \n2          GoldenEye \n3         Four Rooms \n4         Get Shorty \n5            Copycat "
     },
     "execution_count": 9,
     "metadata": {},
     "output_type": "execute_result"
    }
   ],
   "source": [
    "new_movie_data = pd.concat([moviesdata, movie_iddf], axis=1)\n",
    "new_movie_data2 = new_movie_data.set_index('movie_id')\n",
    "new_movie_data2.head()\n"
   ]
  },
  {
   "cell_type": "code",
   "execution_count": 10,
   "metadata": {},
   "outputs": [
    {
     "data": {
      "text/html": "<div>\n<style scoped>\n    .dataframe tbody tr th:only-of-type {\n        vertical-align: middle;\n    }\n\n    .dataframe tbody tr th {\n        vertical-align: top;\n    }\n\n    .dataframe thead th {\n        text-align: right;\n    }\n</style>\n<table border=\"1\" class=\"dataframe\">\n  <thead>\n    <tr style=\"text-align: right;\">\n      <th></th>\n      <th>movie_name</th>\n    </tr>\n    <tr>\n      <th>movie_id</th>\n      <th></th>\n    </tr>\n  </thead>\n  <tbody>\n    <tr>\n      <th>1</th>\n      <td>Toy Story</td>\n    </tr>\n    <tr>\n      <th>2</th>\n      <td>GoldenEye</td>\n    </tr>\n    <tr>\n      <th>3</th>\n      <td>Four Rooms</td>\n    </tr>\n    <tr>\n      <th>4</th>\n      <td>Get Shorty</td>\n    </tr>\n    <tr>\n      <th>5</th>\n      <td>Copycat</td>\n    </tr>\n    <tr>\n      <th>...</th>\n      <td>...</td>\n    </tr>\n    <tr>\n      <th>1678</th>\n      <td>Mat' i syn</td>\n    </tr>\n    <tr>\n      <th>1679</th>\n      <td>B. Monkey</td>\n    </tr>\n    <tr>\n      <th>1680</th>\n      <td>Sliding Doors</td>\n    </tr>\n    <tr>\n      <th>1681</th>\n      <td>You So Crazy</td>\n    </tr>\n    <tr>\n      <th>1682</th>\n      <td>Scream of Stone Schrei aus Stein</td>\n    </tr>\n  </tbody>\n</table>\n<p>1682 rows × 1 columns</p>\n</div>",
      "text/plain": "                                 movie_name\nmovie_id                                   \n1                                Toy Story \n2                                GoldenEye \n3                               Four Rooms \n4                               Get Shorty \n5                                  Copycat \n...                                     ...\n1678                            Mat' i syn \n1679                             B. Monkey \n1680                         Sliding Doors \n1681                          You So Crazy \n1682      Scream of Stone Schrei aus Stein \n\n[1682 rows x 1 columns]"
     },
     "execution_count": 10,
     "metadata": {},
     "output_type": "execute_result"
    }
   ],
   "source": [
    "movie_data = new_movie_data2\n",
    "\n",
    "movie_data"
   ]
  },
  {
   "cell_type": "code",
   "execution_count": 11,
   "metadata": {},
   "outputs": [],
   "source": [
    "movies = movie_data.to_csv('movies.csv')"
   ]
  }
 ],
 "metadata": {
  "kernelspec": {
   "display_name": "Python 3.6.10 64-bit ('PythonData': conda)",
   "name": "python3610jvsc74a57bd0141085f2296e606f9b72e387143ef256c4e3036a2ddeaafda96468e599edaa45"
  },
  "language_info": {
   "name": "python",
   "version": ""
  },
  "metadata": {
   "interpreter": {
    "hash": "141085f2296e606f9b72e387143ef256c4e3036a2ddeaafda96468e599edaa45"
   }
  },
  "orig_nbformat": 3
 },
 "nbformat": 4,
 "nbformat_minor": 2
}