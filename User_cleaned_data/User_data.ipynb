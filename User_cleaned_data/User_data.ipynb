{
 "cells": [
  {
   "cell_type": "code",
   "execution_count": 1,
   "metadata": {},
   "outputs": [],
   "source": [
    "import os\n",
    "import numpy as np\n",
    "import pandas as pd\n",
    "import matplotlib.pyplot as plt\n",
    "import json\n",
    "import urllib\n",
    "import requests"
   ]
  },
  {
   "cell_type": "code",
   "execution_count": 18,
   "metadata": {},
   "outputs": [
    {
     "data": {
      "text/html": "<div>\n<style scoped>\n    .dataframe tbody tr th:only-of-type {\n        vertical-align: middle;\n    }\n\n    .dataframe tbody tr th {\n        vertical-align: top;\n    }\n\n    .dataframe thead th {\n        text-align: right;\n    }\n</style>\n<table border=\"1\" class=\"dataframe\">\n  <thead>\n    <tr style=\"text-align: right;\">\n      <th></th>\n      <th>user_id</th>\n      <th>gender</th>\n      <th>user_occupation</th>\n      <th>zipcode</th>\n    </tr>\n  </thead>\n  <tbody>\n    <tr>\n      <th>1</th>\n      <td>24</td>\n      <td>M</td>\n      <td>technician</td>\n      <td>85711</td>\n    </tr>\n    <tr>\n      <th>2</th>\n      <td>53</td>\n      <td>F</td>\n      <td>other</td>\n      <td>94043</td>\n    </tr>\n    <tr>\n      <th>3</th>\n      <td>23</td>\n      <td>M</td>\n      <td>writer</td>\n      <td>32067</td>\n    </tr>\n    <tr>\n      <th>4</th>\n      <td>24</td>\n      <td>M</td>\n      <td>technician</td>\n      <td>43537</td>\n    </tr>\n    <tr>\n      <th>5</th>\n      <td>33</td>\n      <td>F</td>\n      <td>other</td>\n      <td>15213</td>\n    </tr>\n    <tr>\n      <th>...</th>\n      <td>...</td>\n      <td>...</td>\n      <td>...</td>\n      <td>...</td>\n    </tr>\n    <tr>\n      <th>939</th>\n      <td>26</td>\n      <td>F</td>\n      <td>student</td>\n      <td>33319</td>\n    </tr>\n    <tr>\n      <th>940</th>\n      <td>32</td>\n      <td>M</td>\n      <td>administrator</td>\n      <td>02215</td>\n    </tr>\n    <tr>\n      <th>941</th>\n      <td>20</td>\n      <td>M</td>\n      <td>student</td>\n      <td>97229</td>\n    </tr>\n    <tr>\n      <th>942</th>\n      <td>48</td>\n      <td>F</td>\n      <td>librarian</td>\n      <td>78209</td>\n    </tr>\n    <tr>\n      <th>943</th>\n      <td>22</td>\n      <td>M</td>\n      <td>student</td>\n      <td>77841</td>\n    </tr>\n  </tbody>\n</table>\n<p>943 rows × 4 columns</p>\n</div>",
      "text/plain": "     user_id gender user_occupation zipcode\n1         24      M      technician   85711\n2         53      F           other   94043\n3         23      M          writer   32067\n4         24      M      technician   43537\n5         33      F           other   15213\n..       ...    ...             ...     ...\n939       26      F         student   33319\n940       32      M   administrator   02215\n941       20      M         student   97229\n942       48      F       librarian   78209\n943       22      M         student   77841\n\n[943 rows x 4 columns]"
     },
     "execution_count": 18,
     "metadata": {},
     "output_type": "execute_result"
    }
   ],
   "source": [
    "user_cols = ['user_id', 'gender', 'user_occupation','zipcode']\n",
    "user_df = pd.read_csv('/Users/chipampe/Desktop/ETL_Project/Data user details/users data/ml-100k/u.user', header=None, delimiter='|',names=user_cols)\n",
    "user_df"
   ]
  },
  {
   "cell_type": "code",
   "execution_count": 20,
   "metadata": {},
   "outputs": [
    {
     "data": {
      "text/html": "<div>\n<style scoped>\n    .dataframe tbody tr th:only-of-type {\n        vertical-align: middle;\n    }\n\n    .dataframe tbody tr th {\n        vertical-align: top;\n    }\n\n    .dataframe thead th {\n        text-align: right;\n    }\n</style>\n<table border=\"1\" class=\"dataframe\">\n  <thead>\n    <tr style=\"text-align: right;\">\n      <th></th>\n      <th>gender</th>\n      <th>user_occupation</th>\n    </tr>\n    <tr>\n      <th>user_id</th>\n      <th></th>\n      <th></th>\n    </tr>\n  </thead>\n  <tbody>\n    <tr>\n      <th>24</th>\n      <td>M</td>\n      <td>technician</td>\n    </tr>\n    <tr>\n      <th>53</th>\n      <td>F</td>\n      <td>other</td>\n    </tr>\n    <tr>\n      <th>23</th>\n      <td>M</td>\n      <td>writer</td>\n    </tr>\n    <tr>\n      <th>24</th>\n      <td>M</td>\n      <td>technician</td>\n    </tr>\n    <tr>\n      <th>33</th>\n      <td>F</td>\n      <td>other</td>\n    </tr>\n    <tr>\n      <th>...</th>\n      <td>...</td>\n      <td>...</td>\n    </tr>\n    <tr>\n      <th>26</th>\n      <td>F</td>\n      <td>student</td>\n    </tr>\n    <tr>\n      <th>32</th>\n      <td>M</td>\n      <td>administrator</td>\n    </tr>\n    <tr>\n      <th>20</th>\n      <td>M</td>\n      <td>student</td>\n    </tr>\n    <tr>\n      <th>48</th>\n      <td>F</td>\n      <td>librarian</td>\n    </tr>\n    <tr>\n      <th>22</th>\n      <td>M</td>\n      <td>student</td>\n    </tr>\n  </tbody>\n</table>\n<p>943 rows × 2 columns</p>\n</div>",
      "text/plain": "        gender user_occupation\nuser_id                       \n24           M      technician\n53           F           other\n23           M          writer\n24           M      technician\n33           F           other\n...        ...             ...\n26           F         student\n32           M   administrator\n20           M         student\n48           F       librarian\n22           M         student\n\n[943 rows x 2 columns]"
     },
     "execution_count": 20,
     "metadata": {},
     "output_type": "execute_result"
    }
   ],
   "source": [
    "user_data2 = user_df.drop(['zipcode'], axis=1)\n",
    "user_information = user_data2.set_index('user_id')\n",
    "user_information\n"
   ]
  },
  {
   "cell_type": "code",
   "execution_count": 21,
   "metadata": {},
   "outputs": [],
   "source": [
    "user_information.to_csv('User_info.csv')\n"
   ]
  }
 ],
 "metadata": {
  "kernelspec": {
   "display_name": "Python 3.6.10 64-bit ('Pythondata': conda)",
   "name": "python3610jvsc74a57bd0141085f2296e606f9b72e387143ef256c4e3036a2ddeaafda96468e599edaa45"
  },
  "language_info": {
   "codemirror_mode": {
    "name": "ipython",
    "version": 3
   },
   "file_extension": ".py",
   "mimetype": "text/x-python",
   "name": "python",
   "nbconvert_exporter": "python",
   "pygments_lexer": "ipython3",
   "version": "3.6.10"
  },
  "metadata": {
   "interpreter": {
    "hash": "141085f2296e606f9b72e387143ef256c4e3036a2ddeaafda96468e599edaa45"
   }
  },
  "orig_nbformat": 3
 },
 "nbformat": 4,
 "nbformat_minor": 2
}