{
 "cells": [
  {
   "cell_type": "code",
   "execution_count": 42,
   "metadata": {},
   "outputs": [],
   "source": [
    "import os\n",
    "import numpy as np\n",
    "import pandas as pd\n",
    "import matplotlib.pyplot as plt\n",
    "import json\n",
    "import urllib\n",
    "import requests"
   ]
  },
  {
   "cell_type": "code",
   "execution_count": 43,
   "metadata": {},
   "outputs": [
    {
     "data": {
      "text/html": "<div>\n<style scoped>\n    .dataframe tbody tr th:only-of-type {\n        vertical-align: middle;\n    }\n\n    .dataframe tbody tr th {\n        vertical-align: top;\n    }\n\n    .dataframe thead th {\n        text-align: right;\n    }\n</style>\n<table border=\"1\" class=\"dataframe\">\n  <thead>\n    <tr style=\"text-align: right;\">\n      <th></th>\n      <th>user_id</th>\n      <th>movie_id</th>\n      <th>rating</th>\n      <th>timestamp</th>\n    </tr>\n  </thead>\n  <tbody>\n    <tr>\n      <th>0</th>\n      <td>196</td>\n      <td>242</td>\n      <td>3</td>\n      <td>881250949</td>\n    </tr>\n    <tr>\n      <th>1</th>\n      <td>186</td>\n      <td>302</td>\n      <td>3</td>\n      <td>891717742</td>\n    </tr>\n    <tr>\n      <th>2</th>\n      <td>22</td>\n      <td>377</td>\n      <td>1</td>\n      <td>878887116</td>\n    </tr>\n    <tr>\n      <th>3</th>\n      <td>244</td>\n      <td>51</td>\n      <td>2</td>\n      <td>880606923</td>\n    </tr>\n    <tr>\n      <th>4</th>\n      <td>166</td>\n      <td>346</td>\n      <td>1</td>\n      <td>886397596</td>\n    </tr>\n  </tbody>\n</table>\n</div>",
      "text/plain": "   user_id  movie_id  rating  timestamp\n0      196       242       3  881250949\n1      186       302       3  891717742\n2       22       377       1  878887116\n3      244        51       2  880606923\n4      166       346       1  886397596"
     },
     "execution_count": 43,
     "metadata": {},
     "output_type": "execute_result"
    }
   ],
   "source": [
    "columns_name=['user_id','movie_id','rating','timestamp']\n",
    "main_data_df=pd.read_csv(\"/Users/chipampe/Desktop/ETL_Project/Data user details/users data/ml-100k/u.data\", sep=\"\\t\",names=columns_name)        \n",
    "\n",
    "main_data_df.head()"
   ]
  },
  {
   "cell_type": "code",
   "execution_count": 44,
   "metadata": {},
   "outputs": [
    {
     "data": {
      "text/html": "<div>\n<style scoped>\n    .dataframe tbody tr th:only-of-type {\n        vertical-align: middle;\n    }\n\n    .dataframe tbody tr th {\n        vertical-align: top;\n    }\n\n    .dataframe thead th {\n        text-align: right;\n    }\n</style>\n<table border=\"1\" class=\"dataframe\">\n  <thead>\n    <tr style=\"text-align: right;\">\n      <th></th>\n      <th>timestamp</th>\n    </tr>\n  </thead>\n  <tbody>\n    <tr>\n      <th>0</th>\n      <td>1997-12-04 15:55:49</td>\n    </tr>\n    <tr>\n      <th>1</th>\n      <td>1998-04-04 19:22:22</td>\n    </tr>\n    <tr>\n      <th>2</th>\n      <td>1997-11-07 07:18:36</td>\n    </tr>\n    <tr>\n      <th>3</th>\n      <td>1997-11-27 05:02:03</td>\n    </tr>\n    <tr>\n      <th>4</th>\n      <td>1998-02-02 05:33:16</td>\n    </tr>\n    <tr>\n      <th>...</th>\n      <td>...</td>\n    </tr>\n    <tr>\n      <th>99995</th>\n      <td>1997-11-22 05:10:44</td>\n    </tr>\n    <tr>\n      <th>99996</th>\n      <td>1997-11-17 19:39:03</td>\n    </tr>\n    <tr>\n      <th>99997</th>\n      <td>1997-09-20 22:49:55</td>\n    </tr>\n    <tr>\n      <th>99998</th>\n      <td>1997-12-17 22:52:36</td>\n    </tr>\n    <tr>\n      <th>99999</th>\n      <td>1997-11-19 17:13:03</td>\n    </tr>\n  </tbody>\n</table>\n<p>100000 rows × 1 columns</p>\n</div>",
      "text/plain": "                timestamp\n0     1997-12-04 15:55:49\n1     1998-04-04 19:22:22\n2     1997-11-07 07:18:36\n3     1997-11-27 05:02:03\n4     1998-02-02 05:33:16\n...                   ...\n99995 1997-11-22 05:10:44\n99996 1997-11-17 19:39:03\n99997 1997-09-20 22:49:55\n99998 1997-12-17 22:52:36\n99999 1997-11-19 17:13:03\n\n[100000 rows x 1 columns]"
     },
     "execution_count": 44,
     "metadata": {},
     "output_type": "execute_result"
    }
   ],
   "source": [
    "ts = main_data_df['timestamp'] = pd.to_datetime(main_data_df['timestamp'], unit='s')\n",
    "ts_df = pd.DataFrame(ts)\n",
    "ts_df"
   ]
  },
  {
   "cell_type": "code",
   "execution_count": 45,
   "metadata": {},
   "outputs": [
    {
     "data": {
      "text/html": "<div>\n<style scoped>\n    .dataframe tbody tr th:only-of-type {\n        vertical-align: middle;\n    }\n\n    .dataframe tbody tr th {\n        vertical-align: top;\n    }\n\n    .dataframe thead th {\n        text-align: right;\n    }\n</style>\n<table border=\"1\" class=\"dataframe\">\n  <thead>\n    <tr style=\"text-align: right;\">\n      <th></th>\n      <th>user_id</th>\n      <th>movie_id</th>\n      <th>rating</th>\n      <th>timestamp</th>\n    </tr>\n  </thead>\n  <tbody>\n    <tr>\n      <th>0</th>\n      <td>196</td>\n      <td>242</td>\n      <td>3</td>\n      <td>1997-12-04 15:55:49</td>\n    </tr>\n    <tr>\n      <th>1</th>\n      <td>186</td>\n      <td>302</td>\n      <td>3</td>\n      <td>1998-04-04 19:22:22</td>\n    </tr>\n    <tr>\n      <th>2</th>\n      <td>22</td>\n      <td>377</td>\n      <td>1</td>\n      <td>1997-11-07 07:18:36</td>\n    </tr>\n    <tr>\n      <th>3</th>\n      <td>244</td>\n      <td>51</td>\n      <td>2</td>\n      <td>1997-11-27 05:02:03</td>\n    </tr>\n    <tr>\n      <th>4</th>\n      <td>166</td>\n      <td>346</td>\n      <td>1</td>\n      <td>1998-02-02 05:33:16</td>\n    </tr>\n    <tr>\n      <th>...</th>\n      <td>...</td>\n      <td>...</td>\n      <td>...</td>\n      <td>...</td>\n    </tr>\n    <tr>\n      <th>99995</th>\n      <td>880</td>\n      <td>476</td>\n      <td>3</td>\n      <td>1997-11-22 05:10:44</td>\n    </tr>\n    <tr>\n      <th>99996</th>\n      <td>716</td>\n      <td>204</td>\n      <td>5</td>\n      <td>1997-11-17 19:39:03</td>\n    </tr>\n    <tr>\n      <th>99997</th>\n      <td>276</td>\n      <td>1090</td>\n      <td>1</td>\n      <td>1997-09-20 22:49:55</td>\n    </tr>\n    <tr>\n      <th>99998</th>\n      <td>13</td>\n      <td>225</td>\n      <td>2</td>\n      <td>1997-12-17 22:52:36</td>\n    </tr>\n    <tr>\n      <th>99999</th>\n      <td>12</td>\n      <td>203</td>\n      <td>3</td>\n      <td>1997-11-19 17:13:03</td>\n    </tr>\n  </tbody>\n</table>\n<p>100000 rows × 4 columns</p>\n</div>",
      "text/plain": "       user_id  movie_id  rating           timestamp\n0          196       242       3 1997-12-04 15:55:49\n1          186       302       3 1998-04-04 19:22:22\n2           22       377       1 1997-11-07 07:18:36\n3          244        51       2 1997-11-27 05:02:03\n4          166       346       1 1998-02-02 05:33:16\n...        ...       ...     ...                 ...\n99995      880       476       3 1997-11-22 05:10:44\n99996      716       204       5 1997-11-17 19:39:03\n99997      276      1090       1 1997-09-20 22:49:55\n99998       13       225       2 1997-12-17 22:52:36\n99999       12       203       3 1997-11-19 17:13:03\n\n[100000 rows x 4 columns]"
     },
     "execution_count": 45,
     "metadata": {},
     "output_type": "execute_result"
    }
   ],
   "source": [
    "data_2 = main_data_df\n",
    "#data_3 = data_2.set_index('movie_id')\n",
    "data_2"
   ]
  },
  {
   "cell_type": "code",
   "execution_count": 46,
   "metadata": {},
   "outputs": [
    {
     "data": {
      "text/html": "<div>\n<style scoped>\n    .dataframe tbody tr th:only-of-type {\n        vertical-align: middle;\n    }\n\n    .dataframe tbody tr th {\n        vertical-align: top;\n    }\n\n    .dataframe thead th {\n        text-align: right;\n    }\n</style>\n<table border=\"1\" class=\"dataframe\">\n  <thead>\n    <tr style=\"text-align: right;\">\n      <th></th>\n      <th>movie_id</th>\n      <th>movie_name</th>\n    </tr>\n  </thead>\n  <tbody>\n    <tr>\n      <th>0</th>\n      <td>1</td>\n      <td>Toy Story</td>\n    </tr>\n    <tr>\n      <th>1</th>\n      <td>2</td>\n      <td>GoldenEye</td>\n    </tr>\n    <tr>\n      <th>2</th>\n      <td>3</td>\n      <td>Four Rooms</td>\n    </tr>\n    <tr>\n      <th>3</th>\n      <td>4</td>\n      <td>Get Shorty</td>\n    </tr>\n    <tr>\n      <th>4</th>\n      <td>5</td>\n      <td>Copycat</td>\n    </tr>\n    <tr>\n      <th>...</th>\n      <td>...</td>\n      <td>...</td>\n    </tr>\n    <tr>\n      <th>1677</th>\n      <td>1678</td>\n      <td>Mat' i syn</td>\n    </tr>\n    <tr>\n      <th>1678</th>\n      <td>1679</td>\n      <td>B. Monkey</td>\n    </tr>\n    <tr>\n      <th>1679</th>\n      <td>1680</td>\n      <td>Sliding Doors</td>\n    </tr>\n    <tr>\n      <th>1680</th>\n      <td>1681</td>\n      <td>You So Crazy</td>\n    </tr>\n    <tr>\n      <th>1681</th>\n      <td>1682</td>\n      <td>Scream of Stone Schrei aus Stein</td>\n    </tr>\n  </tbody>\n</table>\n<p>1682 rows × 2 columns</p>\n</div>",
      "text/plain": "      movie_id                         movie_name\n0            1                         Toy Story \n1            2                         GoldenEye \n2            3                        Four Rooms \n3            4                        Get Shorty \n4            5                           Copycat \n...        ...                                ...\n1677      1678                        Mat' i syn \n1678      1679                         B. Monkey \n1679      1680                     Sliding Doors \n1680      1681                      You So Crazy \n1681      1682  Scream of Stone Schrei aus Stein \n\n[1682 rows x 2 columns]"
     },
     "execution_count": 46,
     "metadata": {},
     "output_type": "execute_result"
    }
   ],
   "source": [
    "movie_csv = pd.read_csv('/Users/chipampe/Desktop/ETL_Project/User_cleaned_data/movies.csv')\n",
    "movie_csv"
   ]
  },
  {
   "cell_type": "code",
   "execution_count": 47,
   "metadata": {},
   "outputs": [
    {
     "data": {
      "text/html": "<div>\n<style scoped>\n    .dataframe tbody tr th:only-of-type {\n        vertical-align: middle;\n    }\n\n    .dataframe tbody tr th {\n        vertical-align: top;\n    }\n\n    .dataframe thead th {\n        text-align: right;\n    }\n</style>\n<table border=\"1\" class=\"dataframe\">\n  <thead>\n    <tr style=\"text-align: right;\">\n      <th></th>\n      <th>user_id</th>\n      <th>movie_id</th>\n      <th>rating</th>\n      <th>timestamp</th>\n      <th>movie_name</th>\n    </tr>\n  </thead>\n  <tbody>\n    <tr>\n      <th>0</th>\n      <td>196</td>\n      <td>242</td>\n      <td>3</td>\n      <td>1997-12-04 15:55:49</td>\n      <td>Kolya</td>\n    </tr>\n    <tr>\n      <th>1</th>\n      <td>63</td>\n      <td>242</td>\n      <td>3</td>\n      <td>1997-10-01 23:06:30</td>\n      <td>Kolya</td>\n    </tr>\n    <tr>\n      <th>2</th>\n      <td>226</td>\n      <td>242</td>\n      <td>5</td>\n      <td>1998-01-04 04:37:51</td>\n      <td>Kolya</td>\n    </tr>\n    <tr>\n      <th>3</th>\n      <td>154</td>\n      <td>242</td>\n      <td>3</td>\n      <td>1997-11-10 05:03:55</td>\n      <td>Kolya</td>\n    </tr>\n    <tr>\n      <th>4</th>\n      <td>306</td>\n      <td>242</td>\n      <td>5</td>\n      <td>1997-10-10 17:16:33</td>\n      <td>Kolya</td>\n    </tr>\n    <tr>\n      <th>...</th>\n      <td>...</td>\n      <td>...</td>\n      <td>...</td>\n      <td>...</td>\n      <td>...</td>\n    </tr>\n    <tr>\n      <th>99995</th>\n      <td>840</td>\n      <td>1674</td>\n      <td>4</td>\n      <td>1998-03-29 22:48:02</td>\n      <td>Mamma Roma</td>\n    </tr>\n    <tr>\n      <th>99996</th>\n      <td>655</td>\n      <td>1640</td>\n      <td>3</td>\n      <td>1998-02-26 06:30:46</td>\n      <td>Eighth Day, The</td>\n    </tr>\n    <tr>\n      <th>99997</th>\n      <td>655</td>\n      <td>1637</td>\n      <td>3</td>\n      <td>1998-03-04 04:04:15</td>\n      <td>Girls Town</td>\n    </tr>\n    <tr>\n      <th>99998</th>\n      <td>655</td>\n      <td>1630</td>\n      <td>3</td>\n      <td>1998-02-14 03:58:55</td>\n      <td>Silence of the Palace, The Saimt el Qusur</td>\n    </tr>\n    <tr>\n      <th>99999</th>\n      <td>655</td>\n      <td>1641</td>\n      <td>3</td>\n      <td>1998-02-14 03:43:30</td>\n      <td>Dadetown</td>\n    </tr>\n  </tbody>\n</table>\n<p>100000 rows × 5 columns</p>\n</div>",
      "text/plain": "       user_id  movie_id  rating           timestamp  \\\n0          196       242       3 1997-12-04 15:55:49   \n1           63       242       3 1997-10-01 23:06:30   \n2          226       242       5 1998-01-04 04:37:51   \n3          154       242       3 1997-11-10 05:03:55   \n4          306       242       5 1997-10-10 17:16:33   \n...        ...       ...     ...                 ...   \n99995      840      1674       4 1998-03-29 22:48:02   \n99996      655      1640       3 1998-02-26 06:30:46   \n99997      655      1637       3 1998-03-04 04:04:15   \n99998      655      1630       3 1998-02-14 03:58:55   \n99999      655      1641       3 1998-02-14 03:43:30   \n\n                                       movie_name  \n0                                          Kolya   \n1                                          Kolya   \n2                                          Kolya   \n3                                          Kolya   \n4                                          Kolya   \n...                                           ...  \n99995                                 Mamma Roma   \n99996                            Eighth Day, The   \n99997                                 Girls Town   \n99998  Silence of the Palace, The Saimt el Qusur   \n99999                                   Dadetown   \n\n[100000 rows x 5 columns]"
     },
     "execution_count": 47,
     "metadata": {},
     "output_type": "execute_result"
    }
   ],
   "source": [
    "new_data = pd.merge(data_2, movie_csv, on='movie_id')\n",
    "new_data"
   ]
  },
  {
   "cell_type": "code",
   "execution_count": 48,
   "metadata": {},
   "outputs": [],
   "source": [
    "user_rated_movies = new_data.to_csv('User_rated_movies.csv')"
   ]
  }
 ],
 "metadata": {
  "kernelspec": {
   "display_name": "Python 3.8.8 64-bit ('base': conda)",
   "name": "python388jvsc74a57bd054db6edb10ac425af76598dcdc30f97ac4b25ed34bee4cc7305425d8c08af4a3"
  },
  "language_info": {
   "name": "python",
   "version": ""
  },
  "orig_nbformat": 2
 },
 "nbformat": 4,
 "nbformat_minor": 2
}