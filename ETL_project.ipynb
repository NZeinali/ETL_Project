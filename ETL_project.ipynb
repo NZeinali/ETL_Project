{
 "cells": [
  {
   "cell_type": "code",
   "execution_count": null,
   "source": [
    "import requests\r\n",
    "\r\n",
    "\r\n"
   ],
   "outputs": [],
   "metadata": {}
  },
  {
   "cell_type": "code",
   "execution_count": null,
   "source": [
    "url = \"https://movies-tvshows-data-imdb.p.rapidapi.com/\"\r\n"
   ],
   "outputs": [],
   "metadata": {}
  },
  {
   "cell_type": "code",
   "execution_count": null,
   "source": [
    "querystring = {\"type\":\"get-popular-movies\",\"page\":\"1\",\"year\":\"2020\"}\r\n",
    "\r\n",
    "headers = {\r\n",
    "    'x-rapidapi-host': \"movies-tvshows-data-imdb.p.rapidapi.com\",\r\n",
    "    'x-rapidapi-key': \"cbd91b5406mshfaf68fa7ed4bf90p1647dejsn1e696b66f6af\"\r\n",
    "    }\r\n",
    "\r\n",
    "response = requests.request(\"GET\", url, headers=headers, params=querystring)\r\n",
    "\r\n",
    "print(response.text)"
   ],
   "outputs": [],
   "metadata": {}
  }
 ],
 "metadata": {
  "orig_nbformat": 4,
  "language_info": {
   "name": "python"
  }
 },
 "nbformat": 4,
 "nbformat_minor": 2
}